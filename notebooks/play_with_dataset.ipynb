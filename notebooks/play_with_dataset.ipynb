{
 "cells": [
  {
   "cell_type": "code",
   "execution_count": null,
   "metadata": {},
   "outputs": [],
   "source": [
    "# import pickle\n",
    "# with open(\"temp/debug.pkl\",\"wb\") as f:\n",
    "#     pickle.dump(train_dataset, f)\n",
    "#     breakpoint()\n",
    "\n",
    "import pickle\n",
    "with open(\"temp/debug.pkl\",\"rb\") as f:\n",
    "    dataset = pickle.load(f)"
   ]
  },
  {
   "cell_type": "code",
   "execution_count": null,
   "metadata": {},
   "outputs": [],
   "source": [
    "import torch\n",
    "\n",
    "# episode_id = torch.randint(600000, (1,)).item()\n",
    "episode_id = 500\n",
    "\n",
    "task, variation, file = dataset._episodes[episode_id % dataset._num_episodes]\n",
    "print(f\"\\\"{task}\\\" (var_{variation}) @ {file}\")\n",
    "\n",
    "episode = dataset.read_from_cache(file)\n",
    "frame_ids, obs_tensors, action_tensors, camera_dicts, gripper_tensors, trajectories = episode\n",
    "\n",
    "\n",
    "N_cameras = camera_dicts[0].keys().__len__()\n",
    "import matplotlib.pyplot as plt\n",
    "fig,axes = plt.subplots(N_cameras,len(frame_ids), figsize=(20,10))\n",
    "\n",
    "for cam_id in range(N_cameras):\n",
    "    for frame_id in range(len(frame_ids)):\n",
    "        axes[cam_id,frame_id].imshow(\n",
    "            torch.tensor(obs_tensors[frame_id, cam_id, 0]*0.5 + 0.5).permute(1,2,0).numpy()\n",
    "        )\n",
    "\n",
    "# fig.set_figheight(10)"
   ]
  },
  {
   "cell_type": "code",
   "execution_count": null,
   "metadata": {},
   "outputs": [],
   "source": [
    "import torch\n",
    "\n",
    "episode_id = torch.randint(600000, (1,)).item()\n",
    "# episode_id = 0\n",
    "dat = dataset[episode_id]\n",
    "\n",
    "\n",
    "print(dat['rgbs'].shape, dat['task'])\n",
    "\n",
    "import matplotlib.pyplot as plt\n",
    "fig,axes = plt.subplots(2,dat['rgbs'].shape[0])\n",
    "\n",
    "cam_id = 3\n",
    "which_xyz = 'y'\n",
    "which_xyz = {'x':0, 'y':1, 'z':2}[which_xyz]\n",
    "if dat['rgbs'].shape[0] == 1:\n",
    "    axes[0].imshow(dat['rgbs'][0,cam_id].permute(1,2,0).numpy())\n",
    "    # axes[1].imshow(dat['pcds'][0,cam_id].permute(1,2,0).numpy())\n",
    "    axes[1].imshow(dat['pcds'][0,cam_id][which_xyz:which_xyz+1].repeat(3,1,1).permute(1,2,0).numpy())\n",
    "else:\n",
    "    for i in range(dat['rgbs'].shape[0]):\n",
    "        axes[0,i].imshow(dat['rgbs'][i,cam_id].permute(1,2,0).numpy())\n",
    "        # axes[1,i].imshow(dat['pcds'][i,cam_id].permute(1,2,0).numpy())\n",
    "        axes[1,i].imshow(dat['pcds'][i,cam_id][which_xyz:which_xyz+1].repeat(3,1,1).permute(1,2,0).numpy())\n",
    "\n",
    "fig.set_figwidth(15)"
   ]
  },
  {
   "cell_type": "code",
   "execution_count": null,
   "metadata": {},
   "outputs": [],
   "source": []
  }
 ],
 "metadata": {
  "kernelspec": {
   "display_name": "3d_diffuser_actor",
   "language": "python",
   "name": "python3"
  },
  "language_info": {
   "codemirror_mode": {
    "name": "ipython",
    "version": 3
   },
   "file_extension": ".py",
   "mimetype": "text/x-python",
   "name": "python",
   "nbconvert_exporter": "python",
   "pygments_lexer": "ipython3",
   "version": "3.8.18"
  }
 },
 "nbformat": 4,
 "nbformat_minor": 2
}
